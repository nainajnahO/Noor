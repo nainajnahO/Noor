{
 "cells": [
  {
   "metadata": {
    "ExecuteTime": {
     "end_time": "2025-07-27T14:18:25.157028Z",
     "start_time": "2025-07-27T14:18:24.612178Z"
    }
   },
   "cell_type": "code",
   "source": [
    "import pandas as pd\n",
    "import Noor\n",
    "\n",
    "df = pd.DataFrame({\n",
    "    \"A\": [1, None, 3],\n",
    "    \"B\": [4, 5, None]\n",
    "})\n",
    "\n",
    "# Drop rows with any NaN values\n",
    "clean_df = df.preprocess.drop_na()\n",
    "\n",
    "# Calculate simple moving average (window size defaults to 30)\n",
    "sma_df = clean_df.indicators.sma(window=2)\n",
    "print(sma_df)"
   ],
   "id": "f74dda1bec4c44be",
   "outputs": [
    {
     "name": "stdout",
     "output_type": "stream",
     "text": [
      "    A   B\n",
      "0 NaN NaN\n"
     ]
    }
   ],
   "execution_count": 1
  }
 ],
 "metadata": {
  "kernelspec": {
   "display_name": "Python 3",
   "language": "python",
   "name": "python3"
  },
  "language_info": {
   "codemirror_mode": {
    "name": "ipython",
    "version": 2
   },
   "file_extension": ".py",
   "mimetype": "text/x-python",
   "name": "python",
   "nbconvert_exporter": "python",
   "pygments_lexer": "ipython2",
   "version": "2.7.6"
  }
 },
 "nbformat": 4,
 "nbformat_minor": 5
}
