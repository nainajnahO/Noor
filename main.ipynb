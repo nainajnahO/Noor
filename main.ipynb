{
 "cells": [
  {
   "metadata": {
    "ExecuteTime": {
     "end_time": "2025-07-27T21:41:30.648683Z",
     "start_time": "2025-07-27T21:41:30.421280Z"
    }
   },
   "cell_type": "code",
   "source": [
    "import pandas as pd\n",
    "import noor  # Registers the .indicators accessor on Series\n",
    "\n",
    "# Example price data\n",
    "df = pd.DataFrame({\n",
    "    \"high\":  [10, 11, 12, 13, 12, 11, 12],\n",
    "    \"low\":   [8, 9, 10, 11, 10, 9, 10],\n",
    "    \"close\": [9, 10, 11, 12, 11, 10, 11]\n",
    "})\n",
    "\n",
    "# Test indicators using the Series accessor\n",
    "print(\"SMA:\")\n",
    "print(df[\"close\"].indicators.sma(window_size=3))\n",
    "\n",
    "print(\"\\nRSI:\")\n",
    "print(df[\"close\"].indicators.rsi(window_size=3))\n",
    "\n",
    "print(\"\\nMACD:\")\n",
    "print(df[\"close\"].indicators.macd())\n",
    "\n",
    "print(\"\\nBollinger Bands:\")\n",
    "print(df[\"close\"].indicators.bollinger_bands(window_size=3))\n",
    "\n",
    "print(\"\\nATR:\")\n",
    "print(df[\"close\"].indicators.atr(high=df[\"high\"], low=df[\"low\"], window_size=3))"
   ],
   "id": "f74dda1bec4c44be",
   "outputs": [
    {
     "name": "stdout",
     "output_type": "stream",
     "text": [
      "SMA:\n",
      "0          NaN\n",
      "1          NaN\n",
      "2    10.000000\n",
      "3    11.000000\n",
      "4    11.333333\n",
      "5    11.000000\n",
      "6    10.666667\n",
      "Name: close, dtype: float64\n",
      "\n",
      "RSI:\n",
      "0      NaN\n",
      "1      NaN\n",
      "2      NaN\n",
      "3    100.0\n",
      "4     50.0\n",
      "5     25.0\n",
      "6     62.5\n",
      "Name: close, dtype: float64\n",
      "\n",
      "MACD:\n",
      "       macd    signal  histogram\n",
      "0  0.000000  0.000000   0.000000\n",
      "1  0.079772  0.015954   0.063818\n",
      "2  0.221135  0.056990   0.164144\n",
      "3  0.409141  0.127420   0.281720\n",
      "4  0.472004  0.196337   0.275667\n",
      "5  0.436105  0.244291   0.191814\n",
      "6  0.482782  0.291989   0.190793\n",
      "\n",
      "Bollinger Bands:\n",
      "   upper_band  middle_band  lower_band\n",
      "0         NaN          NaN         NaN\n",
      "1         NaN          NaN         NaN\n",
      "2   12.000000    10.000000    8.000000\n",
      "3   13.000000    11.000000    9.000000\n",
      "4   12.488034    11.333333   10.178633\n",
      "5   13.000000    11.000000    9.000000\n",
      "6   11.821367    10.666667    9.511966\n",
      "\n",
      "ATR:\n",
      "0    NaN\n",
      "1    NaN\n",
      "2    2.0\n",
      "3    2.0\n",
      "4    2.0\n",
      "5    2.0\n",
      "6    2.0\n",
      "dtype: float64\n"
     ]
    }
   ],
   "execution_count": 1
  }
 ],
 "metadata": {
  "kernelspec": {
   "display_name": "Python 3",
   "language": "python",
   "name": "python3"
  },
  "language_info": {
   "codemirror_mode": {
    "name": "ipython",
    "version": 2
   },
   "file_extension": ".py",
   "mimetype": "text/x-python",
   "name": "python",
   "nbconvert_exporter": "python",
   "pygments_lexer": "ipython2",
   "version": "2.7.6"
  }
 },
 "nbformat": 4,
 "nbformat_minor": 5
}
